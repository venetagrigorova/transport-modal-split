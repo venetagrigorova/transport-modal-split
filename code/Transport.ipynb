{
 "cells": [
  {
   "cell_type": "markdown",
   "metadata": {},
   "source": [
    "# Eurostat"
   ]
  },
  {
   "cell_type": "code",
   "execution_count": null,
   "metadata": {
    "id": "QbPNiezXLo5P"
   },
   "outputs": [],
   "source": [
    "import matplotlib.pyplot as plt\n",
    "import seaborn as sns\n",
    "import pandas as pd"
   ]
  },
  {
   "cell_type": "code",
   "execution_count": null,
   "metadata": {
    "id": "LkmVidSdZ7Lc"
   },
   "outputs": [],
   "source": [
    "# Assuming your data is stored in a CSV file named 'mobility_data.csv'\n",
    "data = pd.read_excel('../data/eurostat/transport.xlsx')\n"
   ]
  },
  {
   "cell_type": "code",
   "execution_count": null,
   "metadata": {
    "colab": {
     "base_uri": "https://localhost:8080/",
     "height": 213
    },
    "id": "tURaes56ac0R",
    "outputId": "a11a9796-9a21-4922-f729-f6cdd78df41a"
   },
   "outputs": [],
   "source": [
    "data.head(3)"
   ]
  },
  {
   "cell_type": "code",
   "execution_count": null,
   "metadata": {
    "colab": {
     "base_uri": "https://localhost:8080/"
    },
    "id": "QccF7CNYZ7N3",
    "outputId": "5399ea13-56ae-4b82-9ed6-14adbe7dfae7"
   },
   "outputs": [],
   "source": [
    "data.info()"
   ]
  },
  {
   "cell_type": "code",
   "execution_count": null,
   "metadata": {
    "colab": {
     "base_uri": "https://localhost:8080/"
    },
    "id": "Fb9Q9WrMg8Ky",
    "outputId": "5c0a0eca-91f7-4c44-9554-fbb6fcd92cfe"
   },
   "outputs": [],
   "source": [
    "# Check for missing values\n",
    "data.isnull().sum()"
   ]
  },
  {
   "cell_type": "markdown",
   "metadata": {},
   "source": [
    "Since we have lots of missing values and do not want to influence the data by filling in, we have decided to replace the missing values with \"unknown\""
   ]
  },
  {
   "cell_type": "code",
   "execution_count": null,
   "metadata": {
    "id": "hUkcOTu18rjZ"
   },
   "outputs": [],
   "source": [
    "data = data.fillna('unknown')"
   ]
  },
  {
   "cell_type": "code",
   "execution_count": null,
   "metadata": {
    "colab": {
     "base_uri": "https://localhost:8080/"
    },
    "id": "OZEhus4l83VS",
    "outputId": "0ad0bca5-3176-49d9-fcdf-41220bfce9f7"
   },
   "outputs": [],
   "source": [
    "data.isnull().sum()"
   ]
  },
  {
   "cell_type": "code",
   "execution_count": null,
   "metadata": {},
   "outputs": [],
   "source": [
    "data = data.drop('Covid impact', axis=1)\n"
   ]
  },
  {
   "cell_type": "code",
   "execution_count": null,
   "metadata": {
    "colab": {
     "base_uri": "https://localhost:8080/",
     "height": 310
    },
    "id": "PVcCX7J9PYYu",
    "outputId": "d4a65110-1fd8-4e43-e6d2-0573e3dceefd"
   },
   "outputs": [],
   "source": [
    "data.head()"
   ]
  },
  {
   "cell_type": "code",
   "execution_count": null,
   "metadata": {},
   "outputs": [],
   "source": [
    "country_sample_size = data.groupby('Country')['Sample size'].sum()\n",
    "print(country_sample_size)"
   ]
  },
  {
   "cell_type": "markdown",
   "metadata": {},
   "source": [
    "The comparison of sample sizes in different countries is an indication that we do not have equality in sample sizes."
   ]
  },
  {
   "cell_type": "code",
   "execution_count": null,
   "metadata": {},
   "outputs": [],
   "source": [
    "# Initialize an empty DataFrame to store the subsamples\n",
    "subsamples = pd.DataFrame()\n",
    "\n",
    "# Calculate the minimum sample size across all countries\n",
    "min_sample_size = data.groupby('Country')['Sample size'].sum().min()\n",
    "\n",
    "\n",
    "# Loop over each country\n",
    "for country in data['Country'].unique():\n",
    "    # Get the data for this country\n",
    "    country_data = data[data['Country'] == country]\n",
    "    \n",
    "    # Check if the country's data size is larger than min_sample_size\n",
    "    if len(country_data) >= min_sample_size:\n",
    "        # Sample min_sample_size observations from this country's data\n",
    "        subsample = country_data.sample(n=min_sample_size)\n",
    "    else:\n",
    "        # If not enough data, take all available data for this country\n",
    "        subsample = country_data.copy()\n",
    "        \n",
    "    # Append the subsample to the subsamples DataFrame\n",
    "    subsamples = pd.concat([subsamples, subsample])\n",
    "\n",
    "# Now, 'subsamples' is a DataFrame containing subsamples from each country\n"
   ]
  },
  {
   "cell_type": "code",
   "execution_count": null,
   "metadata": {
    "colab": {
     "base_uri": "https://localhost:8080/"
    },
    "id": "qyW2lmiLg8Ve",
    "outputId": "2695de86-e681-4025-d4d2-3144341a42c8"
   },
   "outputs": [],
   "source": [
    "# Display the unique values in the 'Sub type' column\n",
    "print(data['Sub type'].unique())\n"
   ]
  },
  {
   "cell_type": "code",
   "execution_count": null,
   "metadata": {
    "colab": {
     "base_uri": "https://localhost:8080/"
    },
    "id": "JGjwc5criaXW",
    "outputId": "22041ca3-4c60-4e75-c6f6-ba5329a2038c"
   },
   "outputs": [],
   "source": [
    "# Display the unique values in the 'Type' column\n",
    "print(data['Type'].unique())\n"
   ]
  },
  {
   "cell_type": "code",
   "execution_count": null,
   "metadata": {
    "id": "8yJYOQESlrRz"
   },
   "outputs": [],
   "source": [
    "# Create new columns based on 'Type' and 'Sub type'\n",
    "data['fuel type'] = data['Sub type'][data['Type'] == 'fuel type']\n",
    "data['mode'] = data['Sub type'][data['Type'] == 'mode']\n",
    "data['purpose'] = data['Sub type'][data['Type'] == 'purpose']\n",
    "\n",
    "# Drop the original 'Type' column\n",
    "data = data.drop('Type', axis=1)\n"
   ]
  },
  {
   "cell_type": "code",
   "execution_count": null,
   "metadata": {
    "colab": {
     "base_uri": "https://localhost:8080/",
     "height": 1000
    },
    "id": "6vCB6Ghkqqay",
    "outputId": "d29cf344-bd54-4e60-d0ae-1133943e344a"
   },
   "outputs": [],
   "source": [
    "data.head(50)"
   ]
  },
  {
   "cell_type": "code",
   "execution_count": null,
   "metadata": {
    "id": "iUd-geZrtWXh"
   },
   "outputs": [],
   "source": [
    "# Dropping the 'Sub type' column\n",
    "#data.drop('Sub type', axis=1, inplace=True)"
   ]
  },
  {
   "cell_type": "code",
   "execution_count": null,
   "metadata": {
    "colab": {
     "base_uri": "https://localhost:8080/"
    },
    "id": "RgmtQlMPoaom",
    "outputId": "313e7c52-2c87-4a91-f232-24c2451e4b53"
   },
   "outputs": [],
   "source": [
    "# Display the list of columns\n",
    "columns_list = data.columns\n",
    "print(columns_list)\n"
   ]
  },
  {
   "cell_type": "code",
   "execution_count": null,
   "metadata": {
    "colab": {
     "base_uri": "https://localhost:8080/",
     "height": 1000
    },
    "id": "6hStVtqmTO1Z",
    "outputId": "ca8959f1-b47a-4b6a-a0f9-b40c9b3eaf72"
   },
   "outputs": [],
   "source": [
    "# Assuming 'data' is your DataFrame with columns 'Type', 'Sub type', 'Gender', and 'Estimator'\n",
    "average_amounts = data.groupby(['Country', 'purpose', 'Gender'])['Estimator'].mean().unstack().reset_index()\n",
    "\n",
    "# Iterate through unique 'Type' values\n",
    "for type_value in average_amounts['Country'].unique():\n",
    "    type_data = average_amounts[average_amounts['Country'] == type_value]\n",
    "\n",
    "    # Plot stacked bar chart\n",
    "    type_data.set_index('purpose').plot(kind='bar', stacked=True, figsize=(10, 6))\n",
    "\n",
    "    plt.title(f'Average Estimator for purpose in {type_value}')\n",
    "    plt.xlabel('purpose')\n",
    "    plt.ylabel('Average Estimator')\n",
    "    plt.legend(title='Gender', loc='upper right', bbox_to_anchor=(1.3, 1))\n",
    "    plt.show()\n"
   ]
  },
  {
   "cell_type": "code",
   "execution_count": null,
   "metadata": {},
   "outputs": [],
   "source": [
    "import matplotlib.pyplot as plt\n",
    "\n",
    "# Calculate the average number of trips for each mode of transport in each country\n",
    "average_trips = data.groupby(['Country', 'Sub type'])['Estimator'].mean().unstack()\n",
    "\n",
    "# Plot a stacked bar chart\n",
    "average_trips.plot(kind='bar', stacked=True, figsize=(14, 12))\n",
    "\n",
    "plt.title('Average Number of Trips per Mode of Transport in Each Country')\n",
    "plt.xlabel('Country')\n",
    "plt.ylabel('Average Number of Trips')\n",
    "plt.legend(title='Mode of Transport')\n",
    "plt.show()\n"
   ]
  },
  {
   "cell_type": "code",
   "execution_count": null,
   "metadata": {},
   "outputs": [],
   "source": [
    "import seaborn as sns\n",
    "\n",
    "# Group the data by 'Indicator' and 'mode' and calculate the mean of 'Estimator'\n",
    "average_estimator = data.groupby(['Indicator', 'mode'])['Estimator'].mean().reset_index()\n",
    "\n",
    "# Create a figure and axis\n",
    "plt.figure(figsize=(10, 6))\n",
    "\n",
    "# Create a bar plot\n",
    "sns.barplot(x='Indicator', y='Estimator', hue='mode', data=average_estimator)\n",
    "\n",
    "plt.title('Average Estimator for Each Indicator and Mode of Transport')\n",
    "plt.xlabel('Indicator')\n",
    "plt.ylabel('Average Estimator')\n",
    "plt.legend(title='Mode of Transport')\n",
    "\n",
    "# Rotate x-axis labels for better visibility\n",
    "plt.xticks(rotation=45)\n",
    "\n",
    "plt.show()\n"
   ]
  },
  {
   "cell_type": "code",
   "execution_count": null,
   "metadata": {
    "colab": {
     "base_uri": "https://localhost:8080/",
     "height": 1000
    },
    "id": "xH9IghDrVyob",
    "outputId": "3a1c3831-0e9a-44cb-aabd-f50c4a25fba5"
   },
   "outputs": [],
   "source": [
    "# Assuming 'data' is your DataFrame with columns 'Type', 'Sub type', 'Gender', and 'Estimator'\n",
    "average_amounts = data.groupby(['purpose', 'Gender', 'Type of day'])['Estimator'].mean().unstack().reset_index()\n",
    "\n",
    "# Iterate through unique 'Type' values\n",
    "for type_value in average_amounts['Gender'].unique():\n",
    "    type_data = average_amounts[average_amounts['Gender'] == type_value]\n",
    "\n",
    "    # Plot stacked bar chart\n",
    "    type_data.set_index('purpose').plot(kind='bar', stacked=True, figsize=(10, 6))\n",
    "\n",
    "    plt.title(f'Average Estimator for purpose in {type_value}')\n",
    "    plt.xlabel('Purpose')\n",
    "    plt.ylabel('Average Estimator')\n",
    "    plt.legend(title='Type of day', loc='upper right', bbox_to_anchor=(1.3, 1))\n",
    "    plt.show()"
   ]
  },
  {
   "cell_type": "code",
   "execution_count": null,
   "metadata": {
    "colab": {
     "base_uri": "https://localhost:8080/",
     "height": 1000
    },
    "id": "hLDmS9gybMPK",
    "outputId": "6b0f7745-b476-47a7-d68f-354be4e5939d"
   },
   "outputs": [],
   "source": [
    "# Assuming 'data' is your DataFrame with columns 'Type', 'Sub type', 'Gender', and 'Estimator'\n",
    "average_amounts = data.groupby(['Type of day', 'Country', 'fuel type'])['Estimator'].mean().unstack().reset_index()\n",
    "\n",
    "# Iterate through unique 'Type' values\n",
    "for type_value in average_amounts['Type of day'].unique():\n",
    "    type_data = average_amounts[average_amounts['Type of day'] == type_value]\n",
    "\n",
    "    # Plot stacked bar chart\n",
    "    type_data.set_index('Country').plot(kind='bar', stacked=True, figsize=(10, 6))\n",
    "\n",
    "    plt.title(f'Average Estimator for type of day in {type_value}')\n",
    "    plt.xlabel('Country')\n",
    "    plt.ylabel('Average Estimator')\n",
    "    plt.legend(title='fuel type', loc='upper right', bbox_to_anchor=(1.3, 1))\n",
    "    plt.show()"
   ]
  },
  {
   "cell_type": "code",
   "execution_count": null,
   "metadata": {
    "colab": {
     "base_uri": "https://localhost:8080/",
     "height": 1000
    },
    "id": "Ym9qnw7Engxm",
    "outputId": "eec9d1d6-5df0-4fd4-97a3-30a1e2e7937b"
   },
   "outputs": [],
   "source": [
    "# Assuming 'data' is your DataFrame with columns 'Type', 'Sub type', 'Gender', and 'Estimator'\n",
    "average_amounts = data.groupby(['Type of day', 'Country', 'purpose'])['Estimator'].mean().unstack().reset_index()\n",
    "\n",
    "# Iterate through unique 'Type' values\n",
    "for type_value in average_amounts['Type of day'].unique():\n",
    "    type_data = average_amounts[average_amounts['Type of day'] == type_value]\n",
    "\n",
    "    # Plot stacked bar chart\n",
    "    type_data.set_index('Country').plot(kind='bar', stacked=True, figsize=(10, 6))\n",
    "\n",
    "    plt.title(f'Average Estimator for type of day in {type_value}')\n",
    "    plt.xlabel('Country')\n",
    "    plt.ylabel('Average Estimator')\n",
    "    plt.legend(title='purpose', loc='upper right', bbox_to_anchor=(1.3, 1))\n",
    "    plt.show()"
   ]
  },
  {
   "cell_type": "code",
   "execution_count": null,
   "metadata": {
    "colab": {
     "base_uri": "https://localhost:8080/",
     "height": 1000
    },
    "id": "-CtYuskan2ps",
    "outputId": "cc81a442-3860-4b88-d57b-9e6ff63f4747"
   },
   "outputs": [],
   "source": [
    "# Assuming 'data' is your DataFrame with columns 'Type', 'Sub type', 'Gender', and 'Estimator'\n",
    "average_amounts = data.groupby(['Type of day', 'Country', 'mode'])['Estimator'].mean().unstack().reset_index()\n",
    "\n",
    "# Iterate through unique 'Type' values\n",
    "for type_value in average_amounts['Type of day'].unique():\n",
    "    type_data = average_amounts[average_amounts['Type of day'] == type_value]\n",
    "\n",
    "    # Plot stacked bar chart\n",
    "    type_data.set_index('Country').plot(kind='bar', stacked=True, figsize=(10, 6))\n",
    "\n",
    "    plt.title(f'Average Estimator for type of day in {type_value}')\n",
    "    plt.xlabel('Country')\n",
    "    plt.ylabel('Average Estimator')\n",
    "    plt.legend(title='mode', loc='upper right', bbox_to_anchor=(1.3, 1))\n",
    "    plt.show()"
   ]
  },
  {
   "cell_type": "code",
   "execution_count": null,
   "metadata": {
    "colab": {
     "base_uri": "https://localhost:8080/",
     "height": 896
    },
    "id": "pNeINQbIjx6B",
    "outputId": "859602f5-04e8-4430-ded8-bd2fa71ff91f"
   },
   "outputs": [],
   "source": [
    "# Set the style for the plot\n",
    "sns.set(style=\"whitegrid\")\n",
    "\n",
    "# Plotting all 'Sub type' categories and their average 'Estimator' values\n",
    "plt.figure(figsize=(14, 8))\n",
    "sns.barplot(x='Estimator', y='purpose', data=data, ci=None, palette='viridis')\n",
    "plt.xlabel('Average Estimator')\n",
    "plt.ylabel('Purpose')\n",
    "plt.title('Average Estimator for Each Purpose')\n",
    "plt.show()\n"
   ]
  },
  {
   "cell_type": "code",
   "execution_count": null,
   "metadata": {
    "colab": {
     "base_uri": "https://localhost:8080/",
     "height": 818
    },
    "id": "dDprr91yr5oB",
    "outputId": "ca2bdc8a-a74e-4f66-cff4-8c754c7a708c"
   },
   "outputs": [],
   "source": [
    "# Filter out rows where 'Estimator' is not applicable\n",
    "filtered_data = data[data['Estimator'].notnull()]\n",
    "\n",
    "# Create a grouped bar plot for 'Estimator' based on 'MS' and 'Gender'\n",
    "plt.figure(figsize=(14, 8))\n",
    "sns.barplot(x='Country', y='Estimator', hue='Gender', data=filtered_data, ci=None, palette='muted', dodge=True)\n",
    "plt.xlabel('Country (Countries)')\n",
    "plt.ylabel('Average Estimator')\n",
    "plt.title('Average Estimator for Country (Countries) and Gender')\n",
    "plt.legend(title='Gender')\n",
    "plt.show()\n"
   ]
  },
  {
   "cell_type": "code",
   "execution_count": null,
   "metadata": {
    "colab": {
     "base_uri": "https://localhost:8080/",
     "height": 793
    },
    "id": "5HdQINFVtY6t",
    "outputId": "315cdbb2-de48-4d9f-a9c1-e885b3126e0a"
   },
   "outputs": [],
   "source": [
    "# Filter out rows where 'Estimator' is not applicable\n",
    "filtered_data = data[data['Estimator'].notnull()]\n",
    "\n",
    "# Create a stacked bar plot for the distribution of main travel modes with 'Gender' as hue\n",
    "plt.figure(figsize=(14, 8))\n",
    "sns.barplot(x='Estimator', y='mode', hue='Gender', data=filtered_data, ci=None, palette='muted', estimator=sum)\n",
    "plt.xlabel('Main Travel Mode')\n",
    "plt.ylabel('Total Estimator')\n",
    "plt.title('Distribution of Main Travel Modes by Gender')\n",
    "plt.legend(title='Gender')\n",
    "plt.show()\n"
   ]
  },
  {
   "cell_type": "code",
   "execution_count": null,
   "metadata": {
    "colab": {
     "base_uri": "https://localhost:8080/",
     "height": 300
    },
    "id": "s8Jk4WL0u42I",
    "outputId": "bd6a1057-577a-4fdf-fa7d-8d897dda7257"
   },
   "outputs": [],
   "source": [
    "# Display the statistical summary of numeric columns in the dataset\n",
    "numeric_summary = data.describe(include='number')\n",
    "numeric_summary\n"
   ]
  },
  {
   "cell_type": "code",
   "execution_count": null,
   "metadata": {
    "colab": {
     "base_uri": "https://localhost:8080/"
    },
    "id": "GGOB2hvp39Ab",
    "outputId": "4f609402-77b9-44c4-c1e1-4209adf21804"
   },
   "outputs": [],
   "source": [
    "# Count occurrences of each unique value in the 'Gender' column\n",
    "gender_counts = data['Gender'].value_counts()\n",
    "\n",
    "# Display the result\n",
    "gender_counts\n"
   ]
  },
  {
   "cell_type": "code",
   "execution_count": null,
   "metadata": {
    "colab": {
     "base_uri": "https://localhost:8080/",
     "height": 1000
    },
    "id": "yH995UwQGZOw",
    "outputId": "acf6b108-2de4-44c0-e6dc-18b9f4e3c280"
   },
   "outputs": [],
   "source": [
    "# Specify the columns for analysis\n",
    "columns_to_analyze = ['Type of day', 'Urban or Short-distance mobility', 'Gender','Age band']\n",
    "\n",
    "# Create subplots based on the number of specified columns\n",
    "fig, axes = plt.subplots(nrows=len(columns_to_analyze), ncols=1, figsize=(10, 6 * len(columns_to_analyze)))\n",
    "\n",
    "# Iterate through each specified column and create a bar plot\n",
    "for i, column in enumerate(columns_to_analyze):\n",
    "    # Count occurrences of each unique value\n",
    "    column_counts = data[column].value_counts()\n",
    "\n",
    "    # Calculate percentages\n",
    "    column_percentages = (column_counts / column_counts.sum()) * 100\n",
    "\n",
    "    # Create a bar plot\n",
    "    sns.barplot(x=column_percentages.index, y=column_percentages.values, palette='muted', ax=axes[i])\n",
    "\n",
    "    # Display percentage values on top of each bar\n",
    "    for bar, percentage in zip(axes[i].patches, column_percentages.values):\n",
    "        height = bar.get_height()\n",
    "        axes[i].text(bar.get_x() + bar.get_width() / 2, height + 1, f'{percentage:.2f}%', ha='center', va='bottom')\n",
    "\n",
    "    # Set labels and title for each subplot\n",
    "    axes[i].set_xlabel(column)\n",
    "    axes[i].set_ylabel('Percentage')\n",
    "    axes[i].set_title(f'Percentage Distribution of {column}')\n",
    "\n",
    "# Adjust layout to prevent overlapping\n",
    "plt.tight_layout()\n",
    "plt.show()\n"
   ]
  },
  {
   "cell_type": "code",
   "execution_count": null,
   "metadata": {
    "colab": {
     "base_uri": "https://localhost:8080/",
     "height": 656
    },
    "id": "XBOJt-QvMjQf",
    "outputId": "f9adfe17-0751-47a7-adbf-58e2cc3fe4e7"
   },
   "outputs": [],
   "source": [
    "# Create a count plot for the distribution of travel purpose by age class\n",
    "plt.figure(figsize=(14, 8))\n",
    "sns.countplot(x='Type of day', hue='Age band', data=data, palette='viridis')\n",
    "plt.xlabel('Age Class')\n",
    "plt.ylabel('Count')\n",
    "plt.title('Distribution of Travel Purpose by Age Class')\n",
    "plt.legend(title='Travel Purpose', bbox_to_anchor=(1.05, 1), loc='upper left')\n",
    "plt.show()\n"
   ]
  },
  {
   "cell_type": "code",
   "execution_count": null,
   "metadata": {},
   "outputs": [],
   "source": []
  }
 ],
 "metadata": {
  "accelerator": "GPU",
  "colab": {
   "gpuType": "T4",
   "provenance": []
  },
  "kernelspec": {
   "display_name": "Python 3 (ipykernel)",
   "language": "python",
   "name": "python3"
  },
  "language_info": {
   "codemirror_mode": {
    "name": "ipython",
    "version": 3
   },
   "file_extension": ".py",
   "mimetype": "text/x-python",
   "name": "python",
   "nbconvert_exporter": "python",
   "pygments_lexer": "ipython3",
   "version": "3.9.12"
  },
  "toc": {
   "base_numbering": 1,
   "nav_menu": {},
   "number_sections": true,
   "sideBar": true,
   "skip_h1_title": false,
   "title_cell": "Table of Contents",
   "title_sidebar": "Contents",
   "toc_cell": false,
   "toc_position": {},
   "toc_section_display": true,
   "toc_window_display": false
  }
 },
 "nbformat": 4,
 "nbformat_minor": 1
}
