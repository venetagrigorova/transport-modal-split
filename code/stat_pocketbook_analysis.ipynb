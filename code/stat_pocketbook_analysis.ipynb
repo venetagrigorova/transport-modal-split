{
 "cells": [
  {
   "cell_type": "markdown",
   "metadata": {},
   "source": [
    "First, we start the analysis with investigating the correlations. We use the modal split for the use of personal cars, bus or coach, railway and tram or metro against all other variables collected from the European Commission Statistical Pocketbook 2023.\n",
    "\n",
    "Gathering all the constructed dataframes into 1 dataset and calculating the correlations yields:"
   ]
  },
  {
   "cell_type": "code",
   "execution_count": null,
   "metadata": {},
   "outputs": [],
   "source": [
    "import pandas as pd\n",
    "import matplotlib.pyplot as plt\n",
    "import numpy as np\n",
    "import seaborn as sns\n",
    "import statsmodels.api as sm\n",
    "from sklearn.preprocessing import StandardScaler"
   ]
  },
  {
   "cell_type": "code",
   "execution_count": null,
   "metadata": {},
   "outputs": [],
   "source": [
    "# Read the created df-s\n",
    "\n",
    "general_all = pd.read_csv('../data/StatisticalPocketbook/general_all.csv')\n",
    "transport_all = pd.read_csv('../data/StatisticalPocketbook/transport_all.csv')\n",
    "infrastructure_all = pd.read_csv('../data/StatisticalPocketbook/generainfrastructure_alll_all.csv')\n",
    "means_transp_all = pd.read_csv('../data/StatisticalPocketbook/means_transp_all.csv')\n",
    "modal_split = pd.read_csv('../data/StatisticalPocketbook/modal_split.csv')\n",
    "modal_split_proz = pd.read_csv('../data/StatisticalPocketbook/modal_split_proz.csv')\n",
    "\n",
    "# Merge all (except percentage modal split, will not be using it for now)\n",
    "all_var = [general_all, transport_all, infrastructure_all, means_transp_all, modal_split]\n",
    "\n",
    "# Set indexes back:\n",
    "for df in all_var:\n",
    "    df.set_index('Unnamed: 0', inplace=True)\n",
    "\n",
    "# Compile\n",
    "pocketbook_all = pd.concat(all_var, axis=1)\n",
    "# Drop EU values\n",
    "pocketbook_all = pocketbook_all.drop(\"EU27\")\n",
    "# Drop countries that do not have modal split\n",
    "mod_split_var = ['cars', 'bus_coach', 'railways', 'tram_metro']\n",
    "pocketbook_all = pocketbook_all.dropna(subset=mod_split_var, how='all')\n",
    "\n",
    "pocketbook_all.head()"
   ]
  },
  {
   "cell_type": "code",
   "execution_count": null,
   "metadata": {},
   "outputs": [],
   "source": []
  },
  {
   "cell_type": "code",
   "execution_count": null,
   "metadata": {},
   "outputs": [],
   "source": [
    "# prepare the correlations data\n",
    "correlations = pocketbook_all.corr()\n",
    "# cut out only needed values for better readability\n",
    "correlations = correlations.drop(mod_split_var)\n",
    "correlations = correlations[mod_split_var]\n",
    "\n",
    "# Now creating the heatmap:\n",
    "# Increase the size of the heatmap.\n",
    "plt.figure(figsize=(16, 8))\n",
    "# Set the range of values to be displayed on the colormap from -1 to 1, and set the annotation to True to display the correlation values on the heatmap.\n",
    "heatmap = sns.heatmap(correlations, vmin=-1, vmax=1, center=0, annot=True, cmap='coolwarm')\n",
    "# Give a title to the heatmap. Pad defines the distance of the title from the top of the heatmap.\n",
    "heatmap.set_title('Correlation Heatmap: EU modal split of transport', fontdict={'fontsize':12}, pad=12)"
   ]
  },
  {
   "cell_type": "markdown",
   "metadata": {},
   "source": [
    "Inferred information from the heatmap:\n",
    "\n",
    "First of all, we can look into the negative correlations, as they aren't that many. The larger absolute values (or the bluest spots on the heatmap) are in its big part connected to agriculture and industrial variables. Gross value added for the agriculture sector, as well as the employment in agriculture are negatively correlated with the use of cars and railways.\n",
    "\n",
    "When it comes to positive correlations, there are a lot of variables, that are positively correlated to the modal split as a whole. These are variables like Area, Population, Trade imports and exports, the amount of transport enterprizes and the length of differrent types of roads and even oil pipelines. This is all logical, as bigger countries with larger amounts of travel also have bigger industries, more roads etc. The biggest correlation in the dataset is at 0.97, which is the correlation between the amount of cars in a country and the modal split of car travel. It is expected, but it is another proof that the more cars are bought and in use, the governments can expect them to be used and car travel will go up with every registered car.\n",
    "\n",
    "What would be a further point of interest ´here though, would be to test the variance between the correlation rows, as it will show which factors are better indicators of differentiating modal split. Calculating that yields:\n"
   ]
  },
  {
   "cell_type": "code",
   "execution_count": null,
   "metadata": {},
   "outputs": [],
   "source": [
    "# Compute the row-wise variance\n",
    "row_variances = correlations.var(axis=1)\n",
    "row_variances = row_variances.sort_values(ascending=False)\n",
    "\n",
    "\n",
    "# Create a bar plot to visualize the variances\n",
    "plt.figure(figsize=(10, 6))  # Set the figure size\n",
    "plt.bar(row_variances.index, row_variances)\n",
    "plt.ylabel('Variance')\n",
    "plt.title('Row-wise Variance Between EU Statistical Pocketbook Variables')\n",
    "plt.xticks(rotation=80)  # Rotate x-axis\n",
    "plt.tight_layout()\n",
    "plt.show()"
   ]
  },
  {
   "cell_type": "markdown",
   "metadata": {},
   "source": [
    "First of all, we see that the largest correlation variance is around 0.06, which is not high. This leads to speculation that the transportation factors included in the pocketbook maybe do not explain the modal split that well, but that will be investigated further. All the other correlations are even smaller.\n",
    "\n",
    "Interestingly, the amount of registered busses in a country has the highest variability, but a look at the correlation heatmap shows us that it is good at only explaining the amount of travel via bus, and doesn't separate the other categories. The next highest variance of correlation is recorded for employment rate and industrial growth which seem to give better pointers for differentiating between modal splits. A higher employment rate is correlated with the use of cars and railways, is barely correlated with the use of tram and metro and is negatively correlated with the use of busses. Higher values in industrial growth on the contatry are connected to the use of bus and coach and to smaller use of trams and metro.\n",
    "\n",
    "After looking at the correlations, it is time to check if the speculations made can coinside with findings of actual statistical testing. We proceed to create linear models for each modal split, so that we can investigate the variables, that are significant at predicting it. \n",
    "\n",
    "Proceeding with the modelling, log() transformation is performed on all explanatory variables, as most distributions are skewed (which can be seen in the data reading part of this section):"
   ]
  },
  {
   "cell_type": "code",
   "execution_count": null,
   "metadata": {},
   "outputs": [],
   "source": [
    "# Separating the explanatory variables\n",
    "explanatory_variables = [col for col in pocketbook_all.columns if col not in mod_split_var]\n",
    "\n",
    "# Prepare data for modelling\n",
    "X = pocketbook_all[explanatory_variables]\n",
    "Y = pocketbook_all[mod_split_var]\n",
    "\n",
    "# Fill 0 with very small value to not get -inf\n",
    "X = X.replace(0, 1e-10)\n",
    "# Log-transform the explanatory variables\n",
    "X_log = np.log(X)\n",
    "\n",
    "# Check the amount of NA-s:\n",
    "print(f\"Number of rows with NA-s: {X_log.shape[0]}, and without NA-s: {X_log.dropna().shape[0]}\")\n",
    "# Wiping all NA-s would leave too little information, we have to impute values\n",
    "\n",
    "# Imputing the means\n",
    "column_means = X_log.mean()\n",
    "# Fill missing values \n",
    "X_log = X_log.fillna(column_means)\n",
    "# Standardize\n",
    "X_log = StandardScaler().fit_transform(X_log)\n",
    "\n",
    "# Save p-values in an object\n",
    "p_values1 = {}\n",
    "summaries1 = []\n",
    "\n",
    "# Perform the modelling\n",
    "for split_var in mod_split_var:\n",
    "    model = sm.OLS(Y[split_var], sm.add_constant(X_log))\n",
    "    results = model.fit()\n",
    "    p_values1[split_var] = results.pvalues\n",
    "    summaries1.append(results.summary())\n",
    "\n",
    "print(summaries1[0])"
   ]
  },
  {
   "cell_type": "markdown",
   "metadata": {},
   "source": [
    "It seem that the models have issues with multicollinearity, which is not surprizing, considering the amount of variables.\n",
    "\n",
    "Proceeding with investigating and fixing that:"
   ]
  },
  {
   "cell_type": "code",
   "execution_count": null,
   "metadata": {},
   "outputs": [],
   "source": [
    "# Calculate the correlation matrix\n",
    "X_log_df = pd.DataFrame(X_log, columns=explanatory_variables)\n",
    "\n",
    "corr_explanatory = X_log_df.corr()\n",
    "\n",
    "# Identify and remove highly correlated variables\n",
    "threshold = 0.9  # Set a threshold\n",
    "correlated_features = []\n",
    "for i in range(len(corr_explanatory.columns)):\n",
    "    for j in range(i):\n",
    "        if abs(corr_explanatory.iloc[i, j]) > threshold:\n",
    "            rowname = corr_explanatory.index[i]\n",
    "            colname = corr_explanatory.columns[j]\n",
    "            correlated_features.append([rowname, colname])\n",
    "\n",
    "print(correlated_features)"
   ]
  },
  {
   "cell_type": "markdown",
   "metadata": {},
   "source": [
    "From both highly correlated pairs, we can wipe \"trade_import_w\" and leave just the exports. For Population and the number of cars its harder to choose, but we can wipe Population, because it is included in the population density variable, be it in a non-linear combination."
   ]
  },
  {
   "cell_type": "code",
   "execution_count": null,
   "metadata": {},
   "outputs": [],
   "source": [
    "# Removing the highly correlated variables\n",
    "X_log_df = X_log_df.drop(columns=['trade_import_w', 'Population'])\n",
    "X_log_df.index = X.index\n",
    "\n",
    "# Repeating the modelling\n",
    "p_values2 = {}\n",
    "summaries2 = []\n",
    "\n",
    "# Perform the modelling\n",
    "for split_var in mod_split_var:\n",
    "    model = sm.OLS(Y[split_var], sm.add_constant(X_log_df))\n",
    "    results = model.fit()\n",
    "    p_values2[split_var] = results.pvalues\n",
    "    summaries2.append(results.summary())\n",
    "\n",
    "print(summaries2[0])"
   ]
  },
  {
   "cell_type": "markdown",
   "metadata": {},
   "source": [
    "The warning about multicollinearity is gone so we can proceed with investigating the models.\n",
    "\n",
    "Looking at the linear model for the modal split of passenger cars first, judging by the $R^2$ value of 0.883, a very significant part of the passenger-kilometers per country are explained by the collected variables from the statistical pocketbook. The smaller adjusted $R^2$ value (0.659), which penalizes the inclusion of irrelevant predictors leads to the conclusion that a lot of variables are irrelevant too. \n",
    "\n",
    "Now assessing the best predictors for the modal split for passenger car travel, no coefficients except blood_alcohol_limit are statistically significant at the 0.1 level. It is interesting that higher blood alcohol limits also are a sign of higher car usage, so the more people are allowed to drink without going over limit, the higher the chance more way by car is done. The other variables estimated to have higher predictive power are interestingly Gross Value Added for the industry and services sectors. Both values for the coefficients are negative, which means that the larger the GVA for a country, the smaller the amount travelled by car within it becomes. The other factor to be estimated as more significant is the length of railways, so there is a connection between longer railway roads and amount travelled by car."
   ]
  },
  {
   "cell_type": "code",
   "execution_count": null,
   "metadata": {},
   "outputs": [],
   "source": [
    "print(summaries2[1])"
   ]
  },
  {
   "cell_type": "markdown",
   "metadata": {},
   "source": [
    "When it comes to travelling with bus or coach, the performance of the model judging by the $R^2$ value is a bit worse. This time the only variable significant at the 0.1 level is stock_busses. "
   ]
  },
  {
   "cell_type": "code",
   "execution_count": null,
   "metadata": {},
   "outputs": [],
   "source": [
    "print(summaries2[2])"
   ]
  },
  {
   "cell_type": "markdown",
   "metadata": {},
   "source": [
    "As for railways, the $R^2$ and adj. $R^2$ values are smaller, so the collected factors have a bit less influence over the distance collectively travelled by rail. There is no variables estimated to be significant at the 0.1 level, and the one estimated to have the biggest influence is the length of railway lines, so the longer the railway lines in the country, the more kilometers are travelled by train. Another connected variable is tax_otrans (environmental taxes for transport), so the lower the environmental taxes, the higher the rail usaage.\n"
   ]
  },
  {
   "cell_type": "code",
   "execution_count": null,
   "metadata": {},
   "outputs": [],
   "source": [
    "print(summaries2[3])"
   ]
  },
  {
   "cell_type": "markdown",
   "metadata": {},
   "source": [
    "Lastly, judging by the $R^2$ (0.886) and even the adjusted measure (0.665), the usage of tram and metro can be described best by the given factors out of all the modal splits. Expenditure per head seems to be the indicator and also the length of the railways which doesn't make a lot of logical sense. GVA for the industry sector seems to be also estimted as better indicator, so the less GVA for the industrial sector, the higher usage of tram and metro."
   ]
  },
  {
   "cell_type": "markdown",
   "metadata": {},
   "source": [
    "Overall, as expected no one country specific and transport related measure found in the Statistical Pocketbook 2023 is a good indicator of modal split. Generally, the length or roads and lines, the population and country size and the imports/exports all correlate with the distance travelled by any mean of transport. Some of the indicators that have the most distinct correlation with the modal split for different factors are the amount of registered busses, the employment rate and the industrial growth of a country.\n",
    "\n",
    "After building a linear model for every modal split to investigate the collective influence of all of the coefficients on the modal split, the prediction power of them collectively was estimated to be good, but not a lot of singular variables was estimated to be very important. Some that might be worth looking at are the GVA for different sectors, the blood alcohol limits and the transport expenditure per head."
   ]
  }
 ],
 "metadata": {
  "kernelspec": {
   "display_name": "Python 3",
   "language": "python",
   "name": "python3"
  },
  "language_info": {
   "codemirror_mode": {
    "name": "ipython",
    "version": 3
   },
   "file_extension": ".py",
   "mimetype": "text/x-python",
   "name": "python",
   "nbconvert_exporter": "python",
   "pygments_lexer": "ipython3",
   "version": "3.11.3"
  }
 },
 "nbformat": 4,
 "nbformat_minor": 2
}
