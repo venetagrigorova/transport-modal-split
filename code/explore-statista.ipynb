{
 "cells": [
  {
   "cell_type": "markdown",
   "metadata": {},
   "source": [
    "# Statista data\n",
    "Statista Consumer Insights: https://www.statista.com/global-consumer-survey \n",
    "\n",
    "The data is from the global consumer insights survey, therefore there might be a potential bias that people do not answer truthfully because the assessment of peoples habits might not be a perfect representation of reality. Since statista only provides the aggregated data it is not really possible to clean the data by e.g. filtering out nonsense answers, but it can be expected that Statista did this.\n",
    "\n",
    "As a first step the data was parsed into a pandas dataframe to be able to work with it in Python. This was not that easy since the csv is quite messy, therefore the lines were read and based on the raw text a dataframe was generated.\n",
    "\n",
    "All the survey questions were parsed in the same format: As an index the Year, Update and the Country were used. In order to have not overlapping data only Update 1 was chosen. The countries were filtered to have the same set of countries for every dataset, since different questions were asked in different countries. The answers are stored in the columns, the rows store the percentage of people who chose the corresponding answer for a specific country. Some of the questions were multi pick questions which result in a total percentage of more than 100%.\n",
    "\n",
    "Because the data is all in the same format, two methods are used for plotting the data, one for barplots and one for scatterplots. They picture the same data in different ways. The scatterplot are good to indicate trends over time and the barplots are useful to have a look at the overall distribution of many different categories (in this case answers to questions).\n",
    "\n",
    "The plots for the different questions were used to gain an overview of the data, to determine possible trends or to identify the percentage split of modes of transportation. It is quite surprising that the most popular answer to the question \"Question: How often do you use the following modes of transportation? (Local public transportation)\" is \"Not at all\". Given that there is the option \"Less often than every 2-3 months\" we would have expected that people rather chose this answer instead of \"Not at all\". Furthermore it was astonishing that about 50% of people in France do not use public transport at all. It could be that the wording local public transport leaves some room for interpretation, since it is not defined in more detail in the questionnaire.\n",
    "\n",
    "The transportation usage frequency was limited to local transportation, bicycle and car because the other modes of transport were relatively unpopular therefore the majority of answers would be no usage at all."
   ]
  },
  {
   "cell_type": "code",
   "execution_count": null,
   "metadata": {},
   "outputs": [],
   "source": [
    "import pandas as pd\n",
    "import plotly.express as px\n",
    "import glob\n",
    "import numpy as np\n",
    "from io import StringIO\n",
    "from typing import List\n",
    "\n",
    "from plotly.subplots import make_subplots\n",
    "from plotly import graph_objects as go"
   ]
  },
  {
   "cell_type": "code",
   "execution_count": null,
   "metadata": {},
   "outputs": [],
   "source": [
    "data_root = '../data/statista/'\n",
    "\n",
    "file_lst = glob.glob(data_root + '*.csv')\n"
   ]
  },
  {
   "cell_type": "code",
   "execution_count": null,
   "metadata": {},
   "outputs": [],
   "source": [
    "def parse_statista_csv(filepath: str) -> pd.DataFrame:\n",
    "    \"\"\"Reads a csv file downloaded from statista.com and returns a pandas dataframe\n",
    "\n",
    "    Args:\n",
    "        filepath (str): Filepath of the csv file\n",
    "\n",
    "    Returns:\n",
    "        pd.DataFrame: Pandas dataframe with the data\n",
    "    \"\"\"\n",
    "    with open(filepath, 'r') as f:\n",
    "        lines = f.readlines()\n",
    "    # print question:\n",
    "    print(f'Question: {lines[4]}')\n",
    "    update_indices = [idx for idx, line in enumerate(lines) if ' - Update' in line]\n",
    "    # create pairs from the above list\n",
    "    pairs = list(zip(update_indices, update_indices[1:]))\n",
    "    # Filter out short pairse because they do not contain any data\n",
    "    pairs = [pair for pair in pairs if abs(pair[1] - pair[0]) > 4]\n",
    "    df_lst = []\n",
    "    for update_start, update_end in pairs:\n",
    "        year, update = lines[update_start].strip().replace('Update ', '').replace('\"', '').split('-')\n",
    "        # print(f'Processing {year} {update}')\n",
    "        year = int(year)\n",
    "        update = int(update)\n",
    "        start_idx = update_start + 2\n",
    "        end_idx = update_end - 2\n",
    "        csv_str = ''.join(lines[start_idx:end_idx])\n",
    "        # print(csv_str)\n",
    "        \n",
    "        df = pd.read_csv(StringIO(csv_str), sep=';', header=None).T\n",
    "\n",
    "        # Filter rows based on column: 1\n",
    "        df = df[(df[1] == \"absolute\") | (df[1].isna())]\n",
    "\n",
    "        # Drop column: '1'\n",
    "        df = df.drop(columns=[1])\n",
    "        df.loc[0, 0] = 'Country'\n",
    "        df.columns = df.iloc[0]\n",
    "        df = df[1:]\n",
    "        df['Year'] = year\n",
    "        df['Update'] = update\n",
    "        df.set_index(['Year', 'Update', 'Country'], inplace=True)\n",
    "\n",
    "        for col in df.columns:\n",
    "            # float to be able to assign null\n",
    "            df[col] = df[col].str.split(' / ').str[0].str.replace(',', '').astype(float)\n",
    "        df_lst.append(df)\n",
    "        for col in df.columns:\n",
    "            if col != 'Base':\n",
    "                df[col] = df[col] / df['Base'] * 100\n",
    "                \n",
    "    df = pd.concat(df_lst)\n",
    "    country_lst = ['Finland', 'France', 'Italy', 'Spain', 'Germany', 'Switzerland', 'Sweden', 'Austria', 'Poland']\n",
    "    df = df.query('Country in @country_lst')\n",
    "\n",
    "    return df"
   ]
  },
  {
   "cell_type": "code",
   "execution_count": null,
   "metadata": {},
   "outputs": [],
   "source": [
    "def create_bar_plot(df: pd.DataFrame, title: str, cols_to_plot: List[str] = None, barmode: str = 'group') -> go.Figure:\n",
    "    plot_df = df.copy()\n",
    "    plot_df.reset_index(inplace=True)\n",
    "    if cols_to_plot is None:\n",
    "        cols_to_plot = plot_df.columns.tolist()[4:]\n",
    "    max_cols = 4\n",
    "    n_rows = int(np.ceil(len(plot_df['Country'].unique())/max_cols))\n",
    "    plot_titles = plot_df['Country'].unique()\n",
    "    fig = make_subplots(rows=n_rows, cols=max_cols, subplot_titles=plot_titles, shared_yaxes=True, shared_xaxes=True)\n",
    "    fig.update_layout(title=title, legend_title='Answer')\n",
    "    cur_row = 1\n",
    "    cur_col = 1\n",
    "    first = True\n",
    "    color_palette = px.colors.qualitative.Dark24\n",
    "    if cols_to_plot is None:\n",
    "        cols_to_plot = plot_df.columns.tolist()[4:]\n",
    "    for country in plot_df['Country'].unique():\n",
    "        df = plot_df.query('Country == @country')\n",
    "        for i, col in enumerate(cols_to_plot):\n",
    "            fig.add_trace(go.Bar(x=df['Year'], y=df[col], name=col, marker=dict(color=color_palette[i]), showlegend=first, legendgroup=col), row=cur_row, col=cur_col)\n",
    "            fig.update_xaxes(title_text=\"Year\", row=cur_row, col=cur_col)\n",
    "            fig.update_yaxes(title_text=\"Percentage\", row=cur_row, col=cur_col)\n",
    "        first = False\n",
    "        cur_col += 1\n",
    "        if cur_col > max_cols:\n",
    "            cur_row += 1\n",
    "            cur_col = 1\n",
    "    layout_dict = {}\n",
    "    for i in range(len(plot_df['Country'].unique())):\n",
    "        if i == 0:\n",
    "            layout_dict['xaxis_showticklabels'] = True\n",
    "            layout_dict['yaxis_showticklabels'] = True\n",
    "        else:\n",
    "            layout_dict[f'xaxis{i}_showticklabels'] = True\n",
    "            layout_dict[f'yaxis{i}_showticklabels'] = True\n",
    "    fig.update_layout(legend_title='Answer', barmode=barmode, margin=dict(l=20, r=20, t=100, b=20), height=600)\n",
    "    fig.update_layout(layout_dict)\n",
    "\n",
    "    return fig"
   ]
  },
  {
   "cell_type": "code",
   "execution_count": null,
   "metadata": {},
   "outputs": [],
   "source": [
    "def create_scatter_plot(df: pd.DataFrame, title: str, cols_to_plot: List[str] = None) -> go.Figure:\n",
    "    plot_df = df.copy()\n",
    "    plot_df.reset_index(inplace=True)\n",
    "    # make multiple line subplots for each country\n",
    "    max_cols = 4\n",
    "    n_rows = int(np.ceil(len(plot_df['Country'].unique())/max_cols))\n",
    "    fig = make_subplots(rows=n_rows, cols=max_cols, subplot_titles=plot_df['Country'].unique(), shared_yaxes=True, shared_xaxes=True)\n",
    "    fig.update_layout(title=title, legend_title='Answer')\n",
    "    cur_row = 1\n",
    "    cur_col = 1\n",
    "    first = True\n",
    "    new_row = True\n",
    "    color_palette = px.colors.qualitative.Dark24\n",
    "    if cols_to_plot is None:\n",
    "        cols_to_plot = plot_df.columns.tolist()[4:]\n",
    "    for country in plot_df['Country'].unique():\n",
    "        df = plot_df.query('Country == @country')\n",
    "        for i, col in enumerate(cols_to_plot):\n",
    "            fig.add_trace(\n",
    "                go.Scatter(x=df['Year'], y=df[col], name=col, mode='markers+lines', marker=dict(color=color_palette[i]), showlegend=first, legendgroup=col),\n",
    "                row=cur_row, col=cur_col)\n",
    "            fig.update_xaxes(title_text=\"Year\", row=cur_row, col=cur_col)\n",
    "            if new_row:\n",
    "                fig.update_yaxes(title_text=\"Percentage\", row=cur_row, col=cur_col)\n",
    "\n",
    "        first = False\n",
    "        new_row = False\n",
    "        cur_col += 1\n",
    "        if cur_col > max_cols:\n",
    "            new_row = True\n",
    "            cur_row += 1\n",
    "            cur_col = 1\n",
    "\n",
    "    layout_dict = {}\n",
    "    for i in range(len(plot_df['Country'].unique())):\n",
    "        if i == 0:\n",
    "            layout_dict['xaxis_showticklabels'] = True\n",
    "            layout_dict['yaxis_showticklabels'] = True\n",
    "        else:\n",
    "            layout_dict[f'xaxis{i}_showticklabels'] = True\n",
    "            layout_dict[f'yaxis{i}_showticklabels'] = True\n",
    "    fig.update_layout(layout_dict)\n",
    "\n",
    "    fig.update_layout(margin=dict(l=20, r=20, t=100, b=20), height=600)\n",
    "    return fig"
   ]
  },
  {
   "cell_type": "markdown",
   "metadata": {},
   "source": [
    "## Attitude towards mobility"
   ]
  },
  {
   "cell_type": "code",
   "execution_count": null,
   "metadata": {},
   "outputs": [],
   "source": [
    "mobility_attitude_df = parse_statista_csv('../data/statista/Attitudes towards mobility.csv')\n",
    "# filter for update 1\n",
    "mobility_attitude_df = mobility_attitude_df.query('Update == 1')\n",
    "mobility_attitude_df.info()"
   ]
  },
  {
   "cell_type": "code",
   "execution_count": null,
   "metadata": {},
   "outputs": [],
   "source": [
    "mobility_attitude_df"
   ]
  },
  {
   "cell_type": "code",
   "execution_count": null,
   "metadata": {},
   "outputs": [],
   "source": [
    "fig = create_bar_plot(mobility_attitude_df, 'Attitudes towards mobility')\n",
    "fig.update_layout(height=900)\n",
    "fig.show()"
   ]
  },
  {
   "cell_type": "code",
   "execution_count": null,
   "metadata": {},
   "outputs": [],
   "source": [
    "fig = create_scatter_plot(mobility_attitude_df, 'Attitudes towards mobility')\n",
    "fig.update_layout(height=900)\n",
    "fig.show()"
   ]
  },
  {
   "cell_type": "code",
   "execution_count": null,
   "metadata": {},
   "outputs": [],
   "source": [
    "# commute_countries = commute_duration_df.reset_index()['Country'].unique().tolist()\n",
    "# frequent_modes_of_transport_countries = frequent_modes_of_transport_df.reset_index()['Country'].unique().tolist()\n",
    "# commute_mode_countries = commute_modes_of_transport_df.reset_index()['Country'].unique().tolist()\n",
    "# transportation_usage_public_countries = frequency_public_transport_df.reset_index()['Country'].unique().tolist()\n",
    "# transportation_usage_cars_countries = frequency_car_df.reset_index()['Country'].unique().tolist()\n",
    "# transportation_usage_combined_countries = frequency_combined_df.reset_index()['Country'].unique().tolist()\n",
    "# # find common elements\n",
    "# common_countries = list(set(commute_countries) & set(frequent_modes_of_transport_countries) & set(commute_mode_countries) & set(transportation_usage_public_countries) & set(transportation_usage_cars_countries) & set(transportation_usage_combined_countries))\n",
    "# common_countries"
   ]
  },
  {
   "cell_type": "markdown",
   "metadata": {},
   "source": [
    "## Duration of daily commute"
   ]
  },
  {
   "cell_type": "code",
   "execution_count": null,
   "metadata": {},
   "outputs": [],
   "source": [
    "commute_duration_df = parse_statista_csv('../data/statista/Duration of daily commute.csv')\n",
    "# filter for update 1\n",
    "commute_duration_df = commute_duration_df.query('Update == 1')\n",
    "commute_duration_df.info()"
   ]
  },
  {
   "cell_type": "code",
   "execution_count": null,
   "metadata": {},
   "outputs": [],
   "source": [
    "commute_duration_df"
   ]
  },
  {
   "cell_type": "code",
   "execution_count": null,
   "metadata": {},
   "outputs": [],
   "source": [
    "fig = create_bar_plot(commute_duration_df, 'Duration of daily commute', barmode='stack')\n",
    "fig.update_layout(height=1000)\n",
    "fig.show()"
   ]
  },
  {
   "cell_type": "code",
   "execution_count": null,
   "metadata": {},
   "outputs": [],
   "source": [
    "fig = create_bar_plot(commute_duration_df, 'Duration of daily commute', barmode='group')\n",
    "fig.update_layout(height=1000)\n",
    "fig.show()"
   ]
  },
  {
   "cell_type": "code",
   "execution_count": null,
   "metadata": {},
   "outputs": [],
   "source": [
    "fig = create_scatter_plot(commute_duration_df, 'Duration of daily commute')\n",
    "fig.update_layout(height=1000)\n",
    "fig.show()\n"
   ]
  },
  {
   "cell_type": "markdown",
   "metadata": {},
   "source": [
    "## Frequent users of modes of transportation"
   ]
  },
  {
   "cell_type": "code",
   "execution_count": null,
   "metadata": {},
   "outputs": [],
   "source": [
    "frequent_modes_of_transport_df = parse_statista_csv('../data/statista/Frequent users of modes of transportation.csv')\n",
    "frequent_modes_of_transport_df = frequent_modes_of_transport_df.query('Update == 1')\n",
    "frequent_modes_of_transport_df.info()"
   ]
  },
  {
   "cell_type": "code",
   "execution_count": null,
   "metadata": {},
   "outputs": [],
   "source": [
    "create_bar_plot(frequent_modes_of_transport_df, 'Frequent users of modes of transportation', barmode='group')"
   ]
  },
  {
   "cell_type": "code",
   "execution_count": null,
   "metadata": {},
   "outputs": [],
   "source": [
    "fig = create_bar_plot(frequent_modes_of_transport_df, 'Frequent users of modes of transportation', barmode='stack')\n",
    "fig.update_layout(height=1000)\n",
    "fig.show()"
   ]
  },
  {
   "cell_type": "code",
   "execution_count": null,
   "metadata": {},
   "outputs": [],
   "source": [
    "fig = create_scatter_plot(frequent_modes_of_transport_df, 'Frequent users of modes of transportation')\n",
    "# fig.update_layout(height=700)\n",
    "fig.show()"
   ]
  },
  {
   "cell_type": "markdown",
   "metadata": {},
   "source": [
    "## Modes of transportation for commuting"
   ]
  },
  {
   "cell_type": "code",
   "execution_count": null,
   "metadata": {},
   "outputs": [],
   "source": [
    "commute_modes_of_transport_df = parse_statista_csv('../data/statista/Modes of transportation for commuting.csv')\n",
    "commute_modes_of_transport_df = commute_modes_of_transport_df.query('Update == 1')\n",
    "commute_modes_of_transport_df.info()"
   ]
  },
  {
   "cell_type": "code",
   "execution_count": null,
   "metadata": {},
   "outputs": [],
   "source": [
    "create_bar_plot(commute_modes_of_transport_df, 'Modes of transportation for commuting', barmode='group')"
   ]
  },
  {
   "cell_type": "code",
   "execution_count": null,
   "metadata": {},
   "outputs": [],
   "source": [
    "fig = create_bar_plot(commute_modes_of_transport_df, 'Modes of transportation for commuting', barmode='stack')\n",
    "fig.update_layout(height=1000)\n",
    "\n",
    "fig.show()"
   ]
  },
  {
   "cell_type": "code",
   "execution_count": null,
   "metadata": {},
   "outputs": [],
   "source": [
    "create_scatter_plot(commute_modes_of_transport_df, 'Modes of transportation for commuting')"
   ]
  },
  {
   "cell_type": "markdown",
   "metadata": {},
   "source": [
    "## Bus user (local)"
   ]
  },
  {
   "cell_type": "code",
   "execution_count": null,
   "metadata": {},
   "outputs": [],
   "source": [
    "bus_user_df = parse_statista_csv('../data/statista/Bus user (local).csv')\n",
    "bus_user_df = bus_user_df.query('Update == 1')\n",
    "bus_user_df.info()"
   ]
  },
  {
   "cell_type": "code",
   "execution_count": null,
   "metadata": {},
   "outputs": [],
   "source": [
    "# fig = create_bar_plot(bus_user_df, 'Bus user (local)', barmode='group')\n",
    "# fig.update_layout(height=900)\n",
    "# fig.show()"
   ]
  },
  {
   "cell_type": "code",
   "execution_count": null,
   "metadata": {},
   "outputs": [],
   "source": [
    "# fig = create_bar_plot(bus_user_df, 'Bus user (local)', barmode='stack')\n",
    "# fig.update_layout(height=900)\n",
    "# fig.show()"
   ]
  },
  {
   "cell_type": "code",
   "execution_count": null,
   "metadata": {},
   "outputs": [],
   "source": [
    "fig = create_scatter_plot(bus_user_df, 'Bus user (local)')\n",
    "fig.update_layout(height=900)\n",
    "fig.show()"
   ]
  },
  {
   "cell_type": "markdown",
   "metadata": {},
   "source": [
    "## Train user (local)"
   ]
  },
  {
   "cell_type": "code",
   "execution_count": null,
   "metadata": {},
   "outputs": [],
   "source": [
    "train_user_df = parse_statista_csv('../data/statista/Train user (local).csv')\n",
    "train_user_df = train_user_df.query('Update == 1')\n",
    "train_user_df.info()"
   ]
  },
  {
   "cell_type": "code",
   "execution_count": null,
   "metadata": {},
   "outputs": [],
   "source": [
    "# fig = create_bar_plot(train_user_df, 'Train user (local)', barmode='group')\n",
    "# fig.update_layout(height=900)\n",
    "# fig.show()"
   ]
  },
  {
   "cell_type": "code",
   "execution_count": null,
   "metadata": {},
   "outputs": [],
   "source": [
    "# fig = create_bar_plot(train_user_df, 'Train user (local)', barmode='stack')\n",
    "# fig.update_layout(height=900)\n",
    "# fig.show()"
   ]
  },
  {
   "cell_type": "code",
   "execution_count": null,
   "metadata": {},
   "outputs": [],
   "source": [
    "fig = create_scatter_plot(train_user_df, 'Train user (local)')\n",
    "fig.update_layout(height=900)\n",
    "fig.show()"
   ]
  },
  {
   "cell_type": "markdown",
   "metadata": {},
   "source": [
    "## Transportation usage frequency Local public transportation"
   ]
  },
  {
   "cell_type": "code",
   "execution_count": null,
   "metadata": {},
   "outputs": [],
   "source": [
    "frequency_public_transport_df = parse_statista_csv('../data/statista/Transportation usage frequency Local public transportation.csv')\n",
    "frequency_public_transport_df = frequency_public_transport_df.query('Update == 1')\n",
    "frequency_public_transport_df.info()"
   ]
  },
  {
   "cell_type": "code",
   "execution_count": null,
   "metadata": {},
   "outputs": [],
   "source": [
    "create_bar_plot(frequency_public_transport_df, 'Transportation usage frequency Local public transportation', barmode='stack')"
   ]
  },
  {
   "cell_type": "code",
   "execution_count": null,
   "metadata": {},
   "outputs": [],
   "source": [
    "create_bar_plot(frequency_public_transport_df, 'Transportation usage frequency: Local public transportation', barmode='group')"
   ]
  },
  {
   "cell_type": "code",
   "execution_count": null,
   "metadata": {},
   "outputs": [],
   "source": [
    "fig = create_scatter_plot(frequency_public_transport_df, 'Transportation usage frequency: Local public transportation')\n",
    "fig.update_layout(height=1000)\n",
    "fig.show()"
   ]
  },
  {
   "cell_type": "markdown",
   "metadata": {},
   "source": [
    "## Transportation usage frequency Own bicycle"
   ]
  },
  {
   "cell_type": "code",
   "execution_count": null,
   "metadata": {},
   "outputs": [],
   "source": [
    "frequency_bicycle_df = parse_statista_csv('../data/statista/Transportation usage frequency Own bicycle.csv')\n",
    "frequency_bicycle_df = frequency_bicycle_df.query('Update == 1')\n",
    "frequency_bicycle_df.info()"
   ]
  },
  {
   "cell_type": "code",
   "execution_count": null,
   "metadata": {},
   "outputs": [],
   "source": [
    "create_bar_plot(frequency_bicycle_df, 'Transportation usage frequency: Own bicycle', barmode='stack')"
   ]
  },
  {
   "cell_type": "code",
   "execution_count": null,
   "metadata": {},
   "outputs": [],
   "source": [
    "create_bar_plot(frequency_bicycle_df, 'Transportation usage frequency: Own bicycle', barmode='group')"
   ]
  },
  {
   "cell_type": "code",
   "execution_count": null,
   "metadata": {},
   "outputs": [],
   "source": [
    "fig = create_scatter_plot(frequency_bicycle_df, 'Transportation usage frequency: Own bicycle')\n",
    "fig.update_layout(height=700)\n",
    "fig.show()"
   ]
  },
  {
   "cell_type": "markdown",
   "metadata": {},
   "source": [
    "## Transportation usage frequency Own or household car"
   ]
  },
  {
   "cell_type": "code",
   "execution_count": null,
   "metadata": {},
   "outputs": [],
   "source": [
    "frequency_car_df = parse_statista_csv('../data/statista/Transportation usage frequency Own or household car.csv')\n",
    "frequency_car_df = frequency_car_df.query('Update == 1')\n",
    "frequency_car_df.info()\n"
   ]
  },
  {
   "cell_type": "code",
   "execution_count": null,
   "metadata": {},
   "outputs": [],
   "source": [
    "create_bar_plot(frequency_car_df, 'Transportation usage frequency: Own or household car', barmode='stack')"
   ]
  },
  {
   "cell_type": "code",
   "execution_count": null,
   "metadata": {},
   "outputs": [],
   "source": [
    "create_bar_plot(frequency_car_df, 'Transportation usage frequency: Own or household car', barmode='group')"
   ]
  },
  {
   "cell_type": "code",
   "execution_count": null,
   "metadata": {},
   "outputs": [],
   "source": [
    "fig = create_scatter_plot(frequency_car_df, 'Transportation usage frequency: Own or household car')\n",
    "fig.update_layout(height=1000)\n",
    "fig.show()"
   ]
  },
  {
   "cell_type": "markdown",
   "metadata": {},
   "source": [
    "## Compare frequency - public transport, bicycle and car\n",
    "\n",
    "this is done by joining the required dataframes and plotting them. The columns to be plotted were limited to a subset to make the plots less cluttered."
   ]
  },
  {
   "cell_type": "code",
   "execution_count": null,
   "metadata": {},
   "outputs": [],
   "source": [
    "frequency_combined_df = (\n",
    "    frequency_public_transport_df.drop(columns=\"Base\")\n",
    "    .add_prefix(\"Public Transport \")\n",
    "    .join(frequency_bicycle_df.drop(columns=\"Base\").add_prefix(\"Bicycle \"), how=\"outer\")\n",
    "    .join(frequency_car_df.drop(columns=\"Base\").add_prefix(\"Car \"), how=\"outer\")\n",
    ")\n",
    "frequency_combined_df"
   ]
  },
  {
   "cell_type": "code",
   "execution_count": null,
   "metadata": {},
   "outputs": [],
   "source": [
    "\n",
    "# fig = create_scatter_plot(frequency_combined_df, 'Transportation usage frequency', cols_to_plot=[col for col in frequency_combined_df.columns.to_list() if 'daily' in col or 'Not at all' in col or '2-5 times per week' in col])\n",
    "fig = create_scatter_plot(frequency_combined_df, 'Transportation usage frequency', cols_to_plot=[col for col in frequency_combined_df.columns.to_list() if 'daily' in col])\n",
    "fig.update_layout(height=1000)\n",
    "# fig.show(renderer='browser')"
   ]
  },
  {
   "cell_type": "code",
   "execution_count": null,
   "metadata": {},
   "outputs": [],
   "source": [
    "create_bar_plot(frequency_combined_df, 'Transportation usage frequency', cols_to_plot=[col for col in frequency_combined_df.columns.to_list() if 'daily' in col or 'Not at all' in col or '2-5 times per week' in col], barmode='stack')\n"
   ]
  },
  {
   "cell_type": "code",
   "execution_count": null,
   "metadata": {},
   "outputs": [],
   "source": [
    "fig = create_bar_plot(frequency_combined_df, 'Transportation usage frequency', cols_to_plot=[col for col in frequency_combined_df.columns.to_list() if 'daily' in col or 'Not at all' in col or '2-5 times per week' in col], barmode='group')\n",
    "fig.show()"
   ]
  },
  {
   "cell_type": "code",
   "execution_count": null,
   "metadata": {},
   "outputs": [],
   "source": []
  }
 ],
 "metadata": {
  "kernelspec": {
   "display_name": "dopp",
   "language": "python",
   "name": "python3"
  },
  "language_info": {
   "codemirror_mode": {
    "name": "ipython",
    "version": 3
   },
   "file_extension": ".py",
   "mimetype": "text/x-python",
   "name": "python",
   "nbconvert_exporter": "python",
   "pygments_lexer": "ipython3",
   "version": "3.10.12"
  }
 },
 "nbformat": 4,
 "nbformat_minor": 2
}
